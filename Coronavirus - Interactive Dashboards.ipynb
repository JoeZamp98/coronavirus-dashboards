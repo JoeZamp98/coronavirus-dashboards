{
 "cells": [
  {
   "cell_type": "code",
   "execution_count": 1,
   "metadata": {},
   "outputs": [
    {
     "output_type": "display_data",
     "data": {
      "text/html": "        <script type=\"text/javascript\">\n        window.PlotlyConfig = {MathJaxConfig: 'local'};\n        if (window.MathJax) {MathJax.Hub.Config({SVG: {font: \"STIX-Web\"}});}\n        if (typeof require !== 'undefined') {\n        require.undef(\"plotly\");\n        requirejs.config({\n            paths: {\n                'plotly': ['https://cdn.plot.ly/plotly-latest.min']\n            }\n        });\n        require(['plotly'], function(Plotly) {\n            window._Plotly = Plotly;\n        });\n        }\n        </script>\n        "
     },
     "metadata": {}
    },
    {
     "output_type": "display_data",
     "data": {
      "text/html": "        <script type=\"text/javascript\">\n        window.PlotlyConfig = {MathJaxConfig: 'local'};\n        if (window.MathJax) {MathJax.Hub.Config({SVG: {font: \"STIX-Web\"}});}\n        if (typeof require !== 'undefined') {\n        require.undef(\"plotly\");\n        requirejs.config({\n            paths: {\n                'plotly': ['https://cdn.plot.ly/plotly-latest.min']\n            }\n        });\n        require(['plotly'], function(Plotly) {\n            window._Plotly = Plotly;\n        });\n        }\n        </script>\n        "
     },
     "metadata": {}
    }
   ],
   "source": [
    "import pandas as pd \n",
    "import numpy as np \n",
    "import cufflinks as cf \n",
    "import chart_studio.plotly as py\n",
    "import seaborn as sns\n",
    "import plotly.express as px\n",
    "%matplotlib inline\n",
    "\n",
    "from plotly.offline import download_plotlyjs, init_notebook_mode, plot, iplot\n",
    "init_notebook_mode(connected=True)\n",
    "cf.go_offline()"
   ]
  },
  {
   "cell_type": "code",
   "execution_count": 2,
   "metadata": {},
   "outputs": [],
   "source": [
    "#IMPORT DATA AND LOAD INTO DATA FRAME\n",
    "\n",
    "nationalSummary = pd.read_csv('national-history.csv')\n",
    "coronaData = pd.read_csv('all-states-history.csv')\n",
    "\n",
    "coronaFrame = pd.DataFrame(coronaData)"
   ]
  },
  {
   "cell_type": "code",
   "execution_count": 27,
   "metadata": {},
   "outputs": [
    {
     "output_type": "execute_result",
     "data": {
      "text/plain": [
       "         date state dataQualityGrade   death  deathConfirmed  deathIncrease  \\\n",
       "0  2020-12-12    AK                A   176.0           176.0             18   \n",
       "1  2020-12-12    AL                A  4102.0          3624.0             16   \n",
       "2  2020-12-12    AR               A+  2911.0          2619.0             36   \n",
       "3  2020-12-12    AS                D     0.0             NaN              0   \n",
       "4  2020-12-12    AZ               A+  7322.0          6749.0             77   \n",
       "\n",
       "   deathProbable  hospitalized  hospitalizedCumulative  hospitalizedCurrently  \\\n",
       "0            NaN         883.0                   883.0                  146.0   \n",
       "1          478.0       28146.0                 28146.0                 2161.0   \n",
       "2          292.0        9911.0                  9911.0                 1071.0   \n",
       "3            NaN           NaN                     NaN                    NaN   \n",
       "4          573.0       30687.0                 30687.0                 3534.0   \n",
       "\n",
       "   ...  totalTestsAntibody  totalTestsAntigen  totalTestsPeopleAntibody  \\\n",
       "0  ...                 NaN                NaN                       NaN   \n",
       "1  ...                 NaN                NaN                   76958.0   \n",
       "2  ...                 NaN            21856.0                       NaN   \n",
       "3  ...                 NaN                NaN                       NaN   \n",
       "4  ...            375676.0                NaN                       NaN   \n",
       "\n",
       "   totalTestsPeopleAntigen  totalTestsPeopleViral  \\\n",
       "0                      NaN                    NaN   \n",
       "1                      NaN              1696439.0   \n",
       "2                 177317.0                    NaN   \n",
       "3                      NaN                    NaN   \n",
       "4                      NaN              2486863.0   \n",
       "\n",
       "   totalTestsPeopleViralIncrease  totalTestsViral  totalTestsViralIncrease  \\\n",
       "0                              0        1133418.0                     9873   \n",
       "1                              0              NaN                        0   \n",
       "2                              0        1843031.0                    14852   \n",
       "3                              0           2140.0                        0   \n",
       "4                          26042        4245154.0                    57294   \n",
       "\n",
       "         region      Region  \n",
       "0  Great Plains     Pacific  \n",
       "1          NULL  Deep South  \n",
       "2          NULL  Deep South  \n",
       "3          NULL   Territory  \n",
       "4          NULL     Rockies  \n",
       "\n",
       "[5 rows x 44 columns]"
      ],
      "text/html": "<div>\n<style scoped>\n    .dataframe tbody tr th:only-of-type {\n        vertical-align: middle;\n    }\n\n    .dataframe tbody tr th {\n        vertical-align: top;\n    }\n\n    .dataframe thead th {\n        text-align: right;\n    }\n</style>\n<table border=\"1\" class=\"dataframe\">\n  <thead>\n    <tr style=\"text-align: right;\">\n      <th></th>\n      <th>date</th>\n      <th>state</th>\n      <th>dataQualityGrade</th>\n      <th>death</th>\n      <th>deathConfirmed</th>\n      <th>deathIncrease</th>\n      <th>deathProbable</th>\n      <th>hospitalized</th>\n      <th>hospitalizedCumulative</th>\n      <th>hospitalizedCurrently</th>\n      <th>...</th>\n      <th>totalTestsAntibody</th>\n      <th>totalTestsAntigen</th>\n      <th>totalTestsPeopleAntibody</th>\n      <th>totalTestsPeopleAntigen</th>\n      <th>totalTestsPeopleViral</th>\n      <th>totalTestsPeopleViralIncrease</th>\n      <th>totalTestsViral</th>\n      <th>totalTestsViralIncrease</th>\n      <th>region</th>\n      <th>Region</th>\n    </tr>\n  </thead>\n  <tbody>\n    <tr>\n      <th>0</th>\n      <td>2020-12-12</td>\n      <td>AK</td>\n      <td>A</td>\n      <td>176.0</td>\n      <td>176.0</td>\n      <td>18</td>\n      <td>NaN</td>\n      <td>883.0</td>\n      <td>883.0</td>\n      <td>146.0</td>\n      <td>...</td>\n      <td>NaN</td>\n      <td>NaN</td>\n      <td>NaN</td>\n      <td>NaN</td>\n      <td>NaN</td>\n      <td>0</td>\n      <td>1133418.0</td>\n      <td>9873</td>\n      <td>Great Plains</td>\n      <td>Pacific</td>\n    </tr>\n    <tr>\n      <th>1</th>\n      <td>2020-12-12</td>\n      <td>AL</td>\n      <td>A</td>\n      <td>4102.0</td>\n      <td>3624.0</td>\n      <td>16</td>\n      <td>478.0</td>\n      <td>28146.0</td>\n      <td>28146.0</td>\n      <td>2161.0</td>\n      <td>...</td>\n      <td>NaN</td>\n      <td>NaN</td>\n      <td>76958.0</td>\n      <td>NaN</td>\n      <td>1696439.0</td>\n      <td>0</td>\n      <td>NaN</td>\n      <td>0</td>\n      <td>NULL</td>\n      <td>Deep South</td>\n    </tr>\n    <tr>\n      <th>2</th>\n      <td>2020-12-12</td>\n      <td>AR</td>\n      <td>A+</td>\n      <td>2911.0</td>\n      <td>2619.0</td>\n      <td>36</td>\n      <td>292.0</td>\n      <td>9911.0</td>\n      <td>9911.0</td>\n      <td>1071.0</td>\n      <td>...</td>\n      <td>NaN</td>\n      <td>21856.0</td>\n      <td>NaN</td>\n      <td>177317.0</td>\n      <td>NaN</td>\n      <td>0</td>\n      <td>1843031.0</td>\n      <td>14852</td>\n      <td>NULL</td>\n      <td>Deep South</td>\n    </tr>\n    <tr>\n      <th>3</th>\n      <td>2020-12-12</td>\n      <td>AS</td>\n      <td>D</td>\n      <td>0.0</td>\n      <td>NaN</td>\n      <td>0</td>\n      <td>NaN</td>\n      <td>NaN</td>\n      <td>NaN</td>\n      <td>NaN</td>\n      <td>...</td>\n      <td>NaN</td>\n      <td>NaN</td>\n      <td>NaN</td>\n      <td>NaN</td>\n      <td>NaN</td>\n      <td>0</td>\n      <td>2140.0</td>\n      <td>0</td>\n      <td>NULL</td>\n      <td>Territory</td>\n    </tr>\n    <tr>\n      <th>4</th>\n      <td>2020-12-12</td>\n      <td>AZ</td>\n      <td>A+</td>\n      <td>7322.0</td>\n      <td>6749.0</td>\n      <td>77</td>\n      <td>573.0</td>\n      <td>30687.0</td>\n      <td>30687.0</td>\n      <td>3534.0</td>\n      <td>...</td>\n      <td>375676.0</td>\n      <td>NaN</td>\n      <td>NaN</td>\n      <td>NaN</td>\n      <td>2486863.0</td>\n      <td>26042</td>\n      <td>4245154.0</td>\n      <td>57294</td>\n      <td>NULL</td>\n      <td>Rockies</td>\n    </tr>\n  </tbody>\n</table>\n<p>5 rows × 44 columns</p>\n</div>"
     },
     "metadata": {},
     "execution_count": 27
    }
   ],
   "source": [
    "#Create State-Level Data Frames\n",
    "\n",
    "massFilter = (coronaFrame['state'] == 'MA')\n",
    "\n",
    "massFrame = coronaFrame[massFilter]\n",
    "\n",
    "#Grouping States into Regions\n",
    "\n",
    "regionDirectory = {\n",
    "    'ME': 'New England',\n",
    "    'NH': 'New England',\n",
    "    'VT': 'New Englnad',\n",
    "    'CT': 'New England',\n",
    "    'MA': 'New England',\n",
    "    'RI': 'New England',\n",
    "    'NY': 'Mid-Atlantic',\n",
    "    'PA': 'Mid-Atlantic',\n",
    "    'NJ': 'Mid-Atlantic',\n",
    "    'DE': 'Mid-Atlantic',\n",
    "    'MD': 'Mid-Atlantic',\n",
    "    'VA': 'Mid-Atlantic',\n",
    "    'DC': 'Mid-Atlantic',\n",
    "    'KY': 'Midwest',\n",
    "    'OH': 'Midwest',\n",
    "    'IN': 'Midwest',\n",
    "    'MI': 'Midwest',\n",
    "    'IL': 'Midwest',\n",
    "    'WV': 'Midwest',\n",
    "    'WI': 'Midwest',\n",
    "    'MO': 'Midwest',\n",
    "    'IA': 'Midwest',\n",
    "    'MN': 'Midwest',\n",
    "    'TN': 'Deep South',\n",
    "    'NC': 'Deep South',\n",
    "    'SC': 'Deep South',\n",
    "    'GA': 'Deep South',\n",
    "    'FL': 'Deep South',\n",
    "    'MS': 'Deep South',\n",
    "    'AL': 'Deep South',\n",
    "    'LA': 'Deep South',\n",
    "    'AR': 'Deep South',\n",
    "    'TX': 'Great Plains',\n",
    "    'OK': 'Great Plains',\n",
    "    'KS': 'Great Plains',\n",
    "    'NE': 'Great Plains',\n",
    "    'SD': 'Great Plains',\n",
    "    'ND': 'Great Plains',\n",
    "    'MT': 'Rockies',\n",
    "    'WY': 'Rockies',\n",
    "    'CO': 'Rockies',\n",
    "    'NM': 'Rockies',\n",
    "    'AZ': 'Rockies',\n",
    "    'UT': 'Rockies',\n",
    "    'ID': 'Rockies',\n",
    "    'NV': 'Rockies',\n",
    "    'CA': 'West Coast',\n",
    "    'OR': 'West Coast',\n",
    "    'WA': 'West Coast',\n",
    "    'AK': 'Pacific',\n",
    "    'HI': 'Pacific',\n",
    "    'AS': 'Territory',\n",
    "    'GU': 'Territory',\n",
    "    'MP': 'Territory',\n",
    "    'PR': 'Territory',\n",
    "    'VI': 'Territory'\n",
    "}\n",
    "\n",
    "def group_regions(state):\n",
    "    return regionDirectory[state]\n",
    "\n",
    "coronaFrame['Region'] = coronaFrame['state'].apply(group_regions)\n",
    "\n",
    "coronaFrame.head()"
   ]
  },
  {
   "cell_type": "code",
   "execution_count": 4,
   "metadata": {},
   "outputs": [],
   "source": [
    "#DATA FILTERS\n",
    "\n",
    "casesFilterMA = ((massFrame['positiveIncrease'] > 0) & (massFrame['positiveIncrease'] != 3840))\n",
    "massFrame = massFrame[casesFilterMA]\n",
    "massFrame.sort_values('date', inplace=True)"
   ]
  },
  {
   "cell_type": "code",
   "execution_count": 5,
   "metadata": {},
   "outputs": [],
   "source": [
    "#CASE TREND\n",
    "\n",
    "#New England"
   ]
  },
  {
   "cell_type": "code",
   "execution_count": null,
   "metadata": {},
   "outputs": [],
   "source": []
  }
 ],
 "metadata": {
  "kernelspec": {
   "name": "python3",
   "display_name": "Python 3.7.9 64-bit ('plotlyEnv': conda)",
   "metadata": {
    "interpreter": {
     "hash": "a735bebbce514649bb858966578fde8ea86f0df4cb3b6f9c4624c5c719af7878"
    }
   }
  }
 },
 "nbformat": 4,
 "nbformat_minor": 4
}